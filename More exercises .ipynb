{
 "cells": [
  {
   "cell_type": "code",
   "execution_count": 2,
   "metadata": {},
   "outputs": [
    {
     "name": "stdout",
     "output_type": "stream",
     "text": [
      "Please enter a number: 3\n",
      "Positive number\n"
     ]
    }
   ],
   "source": [
    "num = int(input('Please enter a number: '))\n",
    "if num > 0:\n",
    "    print('Positive number')\n",
    "elif num == 0:\n",
    "    print('Zero')\n",
    "else:\n",
    "    print('Negative number')"
   ]
  },
  {
   "cell_type": "code",
   "execution_count": 1,
   "metadata": {},
   "outputs": [
    {
     "name": "stdout",
     "output_type": "stream",
     "text": [
      "Please enter a number over a 100: 106\n",
      "7 14 21 28 35 42 49 56 63 70 77 84 91 98 105 112 119 126 133 "
     ]
    }
   ],
   "source": [
    "x = int(input('Please enter a number over a 100: '))\n",
    "for x in range (1, 20):\n",
    "    c = x * 7\n",
    "    print(c, end=' ')"
   ]
  },
  {
   "cell_type": "code",
   "execution_count": 6,
   "metadata": {},
   "outputs": [
    {
     "name": "stdout",
     "output_type": "stream",
     "text": [
      "Enter a number: 24\n",
      "24 is not a prime number\n"
     ]
    }
   ],
   "source": [
    "def isPrime(n):\n",
    "    for i in range(2,int((n)/2)+1):\n",
    "        if n%i == 0:\n",
    "            return False \n",
    "        return True\n",
    "x=int(input('Enter a number: '))\n",
    "if(isPrime(x)):\n",
    "    print(f\"{x} is a prime number\")\n",
    "else:\n",
    "    print(f\"{x} is not a prime number\")"
   ]
  },
  {
   "cell_type": "code",
   "execution_count": 10,
   "metadata": {},
   "outputs": [
    {
     "name": "stdout",
     "output_type": "stream",
     "text": [
      "[3, 43, 42, 40, 29, 57]\n"
     ]
    }
   ],
   "source": [
    "import random \n",
    "\n",
    "lucky_nums=[]\n",
    "while (len(lucky_nums)<6):\n",
    "    num=random.randrange(1,59)\n",
    "    while (num in lucky_nums):\n",
    "        num=random.randrange(1, 59)\n",
    "    lucky_nums.append(num)\n",
    "lucky_num.sort()\n",
    "print(lucky_nums)"
   ]
  },
  {
   "cell_type": "code",
   "execution_count": null,
   "metadata": {},
   "outputs": [],
   "source": []
  }
 ],
 "metadata": {
  "kernelspec": {
   "display_name": "Python 3",
   "language": "python",
   "name": "python3"
  },
  "language_info": {
   "codemirror_mode": {
    "name": "ipython",
    "version": 3
   },
   "file_extension": ".py",
   "mimetype": "text/x-python",
   "name": "python",
   "nbconvert_exporter": "python",
   "pygments_lexer": "ipython3",
   "version": "3.8.3"
  }
 },
 "nbformat": 4,
 "nbformat_minor": 4
}
