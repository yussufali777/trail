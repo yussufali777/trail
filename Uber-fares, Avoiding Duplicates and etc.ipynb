{
 "cells": [
  {
   "cell_type": "code",
   "execution_count": 18,
   "metadata": {},
   "outputs": [
    {
     "name": "stdout",
     "output_type": "stream",
     "text": [
      "Uber fare for a 3 miles trip is £6.25.\n"
     ]
    }
   ],
   "source": [
    "# Uber fares calculated\n",
    " \n",
    "# uber_fare function definition\n",
    "def uber_fare(distance: float) -> float:\n",
    "    base_fare = 2.50\n",
    "    mile_cost = 1.25\n",
    "    fare = base_fare + mile_cost * distance\n",
    "    return fare\n",
    " \n",
    "# testing the function\n",
    "print(f\"Uber fare for a 3 miles trip is £{uber_fare(3)}.\")"
   ]
  },
  {
   "cell_type": "code",
   "execution_count": 19,
   "metadata": {},
   "outputs": [
    {
     "name": "stdout",
     "output_type": "stream",
     "text": [
      "cat\n",
      "dog\n",
      "cat\n",
      "\n",
      "cat\n",
      "dog\n"
     ]
    }
   ],
   "source": [
    "# ii. Avoiding Duplicates\n",
    "\n",
    "''' if the input word is not in the list we append it to the list otherwise not,\n",
    "in the end we print all the word using a for loop'''\n",
    "\n",
    "user_input = input()\n",
    "word_list = []\n",
    "while user_input != \"\":\n",
    "    if user_input not in word_list:\n",
    "        word_list.append(user_input)\n",
    "    user_input = input()\n",
    "\n",
    "for word in word_list:\n",
    "    print(word)"
   ]
  },
  {
   "cell_type": "code",
   "execution_count": 15,
   "metadata": {},
   "outputs": [
    {
     "name": "stdout",
     "output_type": "stream",
     "text": [
      "Total\t Simulated\t Expected\n",
      "\t   Percent\t  Percent\n",
      "    2\t      2.70\t     2.78\n",
      "    3\t      4.40\t     5.56\n",
      "    4\t     10.10\t     8.33\n",
      "    5\t     10.60\t    11.11\n",
      "    6\t     16.10\t    13.89\n",
      "    7\t     15.00\t    16.67\n",
      "    8\t     13.50\t    13.89\n",
      "    9\t     11.10\t    11.11\n",
      "   10\t      7.90\t     8.33\n",
      "   11\t      5.10\t     5.56\n",
      "   12\t      3.50\t     2.78\n"
     ]
    }
   ],
   "source": [
    "# iii. Roll the dice\n",
    "\n",
    "import random\n",
    "random.seed(1500)\n",
    "'''When we set the seed we can reproduce the same random numbers in every experiment'''\n",
    "\n",
    "def roll_two_dice() -> int:\n",
    "    dice_one = random.randint(1, 6)\n",
    "    dice_two = random.randint(1, 6)\n",
    "    return dice_one + dice_two\n",
    "\n",
    "# initialize a dictionary to keep the probabilities, initially all probablities are zero\n",
    "prob_dict = dict.fromkeys([x for x in range(2,13)], 0.0)\n",
    "experiments = 1000\n",
    "for i in range(experiments):\n",
    "    total = roll_two_dice()\n",
    "    prob_dict[total] += (1/experiments)\n",
    "\n",
    "# rounding the long decimal point numbers to two decimal points numbers\n",
    "prob_dict = dict(map(lambda item: (item[0], round(item[1]*100,2)), prob_dict.items()))\n",
    "\n",
    "# calculating the expected probability\n",
    "total_combinations = 36\n",
    "number_of_combinations = [1, 2, 3, 4, 5, 6, 5, 4, 3, 2, 1]\n",
    "expected_probs = [round(x*100/total_combinations,2) for x in number_of_combinations]\n",
    "expected_prob_dict = dict(zip([x for x in range(2,13)], expected_probs))\n",
    "\n",
    "# printing the summary\n",
    "print(\"Total\\t Simulated\\t Expected\")\n",
    "print(\"\\t   Percent\\t  Percent\")\n",
    "for (k,v), (k2,v2) in zip(prob_dict.items(), expected_prob_dict.items()):\n",
    "    print(\"{total:5}\\t{simulated:10.2f}\\t{expected:9.2f}\".format(total = k, simulated = v, expected = v2))\n"
   ]
  },
  {
   "cell_type": "code",
   "execution_count": 16,
   "metadata": {},
   "outputs": [
    {
     "name": "stdout",
     "output_type": "stream",
     "text": [
      "Greatest Common Divisor of 18 and 6 is 6\n"
     ]
    }
   ],
   "source": [
    "# v. Euclid’s Greatest Common Divisor\n",
    "def gcd(a, b) -> int:\n",
    "    if (b == 0):\n",
    "        return a\n",
    "    else:\n",
    "        c = a % b\n",
    "        return gcd(b,c)\n",
    "\n",
    "print(f\"Greatest Common Divisor of 18 and 6 is {gcd(6,18)}\")"
   ]
  },
  {
   "cell_type": "code",
   "execution_count": null,
   "metadata": {},
   "outputs": [],
   "source": []
  }
 ],
 "metadata": {
  "kernelspec": {
   "display_name": "Python 3",
   "language": "python",
   "name": "python3"
  },
  "language_info": {
   "codemirror_mode": {
    "name": "ipython",
    "version": 3
   },
   "file_extension": ".py",
   "mimetype": "text/x-python",
   "name": "python",
   "nbconvert_exporter": "python",
   "pygments_lexer": "ipython3",
   "version": "3.8.3"
  }
 },
 "nbformat": 4,
 "nbformat_minor": 4
}
